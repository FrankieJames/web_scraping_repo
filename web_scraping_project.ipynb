{
 "cells": [
  {
   "cell_type": "code",
   "execution_count": 2,
   "metadata": {},
   "outputs": [
    {
     "name": "stderr",
     "output_type": "stream",
     "text": [
      "\n",
      "\n",
      "====== WebDriver manager ======\n",
      "Current google-chrome version is 100.0.4896\n",
      "Get LATEST chromedriver version for 100.0.4896 google-chrome\n",
      "Driver [/Users/frankiejames/.wdm/drivers/chromedriver/mac64_m1/100.0.4896.60/chromedriver] found in cache\n",
      "/var/folders/sf/lnrr_g5s6bd9cf8zjnzr2b6w0000gn/T/ipykernel_85396/2979753795.py:10: DeprecationWarning: executable_path has been deprecated, please pass in a Service object\n",
      "  driver = Chrome(ChromeDriverManager().install())\n"
     ]
    }
   ],
   "source": [
    "from selenium.webdriver import Chrome \n",
    "from webdriver_manager.chrome import ChromeDriverManager \n",
    "from selenium.webdriver.common.by import By\n",
    "from selenium.webdriver.chrome.options import Options\n",
    "\n",
    "# options. Headless mode, selenium will be working, but chrome won't pop up. Will just scrape data in the background, without seeing it\n",
    "# options = Options()\n",
    "# options.add_argument(\"--headless\")\n",
    "\n",
    "driver = Chrome(ChromeDriverManager().install())\n",
    "driver.get(\"https://coastradar.com/beaches-near-me/\")\n",
    "\n",
    "\n",
    "    "
   ]
  },
  {
   "cell_type": "code",
   "execution_count": null,
   "metadata": {},
   "outputs": [],
   "source": []
  },
  {
   "cell_type": "code",
   "execution_count": null,
   "metadata": {},
   "outputs": [],
   "source": []
  }
 ],
 "metadata": {
  "interpreter": {
   "hash": "5ad36b04f21e50ae04124b882407387a0b66dfa6eea98d3aa63549315f7a7f8d"
  },
  "kernelspec": {
   "display_name": "Python 3.8.12 ('wbs_env': venv)",
   "language": "python",
   "name": "python3"
  },
  "language_info": {
   "codemirror_mode": {
    "name": "ipython",
    "version": 3
   },
   "file_extension": ".py",
   "mimetype": "text/x-python",
   "name": "python",
   "nbconvert_exporter": "python",
   "pygments_lexer": "ipython3",
   "version": "3.8.12"
  },
  "orig_nbformat": 4
 },
 "nbformat": 4,
 "nbformat_minor": 2
}
